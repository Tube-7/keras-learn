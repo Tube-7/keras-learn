{
 "cells": [
  {
   "cell_type": "code",
   "execution_count": null,
   "metadata": {},
   "outputs": [],
   "source": []
  },
  {
   "cell_type": "code",
   "execution_count": 1,
   "metadata": {},
   "outputs": [
    {
     "name": "stderr",
     "output_type": "stream",
     "text": [
      "Building prefix dict from the default dictionary ...\n",
      "Loading model from cache C:\\Users\\84920\\AppData\\Local\\Temp\\jieba.cache\n",
      "Loading model cost 0.720 seconds.\n",
      "Prefix dict has been built succesfully.\n"
     ]
    },
    {
     "name": "stdout",
     "output_type": "stream",
     "text": [
      "35889\n",
      "21293\n"
     ]
    }
   ],
   "source": [
    "import re\n",
    "import jieba\n",
    "\n",
    "nomalList=[]\n",
    "pornList=[]\n",
    "pornFileList = []\n",
    "nomalFileList = []\n",
    "\n",
    "for i in [\"1\",\"2\",\"3\",\"4\",\"5\",\"6\",\"7\"]:\n",
    "    nomalFileList.append(('normal word-'+i+ r'.txt'))\n",
    "    pornFileList.append(('porn word-'+i+ r'.txt'))\n",
    "\n",
    "for i in range(len(nomalFileList)):\n",
    "    with open(nomalFileList[i],\"r\",encoding=\"utf-8\") as f:\n",
    "        words = f.readlines()\n",
    "        for word in words:\n",
    "            rule = re.compile(u\"[\\\\n]\")\n",
    "            word = rule.sub('',word)\n",
    "#             list.append({\"word\":word,\"label\":0})\n",
    "            a = jieba.lcut(word, cut_all=False, HMM=True)#把每句分词加进去\n",
    "            for i in a:\n",
    "                nomalList.append(i)\n",
    "            \n",
    "    \n",
    "    \n",
    "for i in range(len(pornFileList)):\n",
    "    with open(pornFileList[i],\"r\",encoding=\"utf-8\") as f:\n",
    "        words = f.readlines()\n",
    "        for word in words:\n",
    "            rule = re.compile(u\"[\\\\n]a-zA-Z\")\n",
    "            word = rule.sub('',word)\n",
    "#             list.append({\"word\":word,\"label\":1})\n",
    "            a = jieba.lcut(word, cut_all=False, HMM=True)#把每句分词加进去\n",
    "            \n",
    "            for i in a:\n",
    "                pornList.append(i)\n",
    "        \n",
    "\n",
    "print(len(pornList))\n",
    "print(len(nomalList))"
   ]
  },
  {
   "cell_type": "code",
   "execution_count": 2,
   "metadata": {},
   "outputs": [
    {
     "name": "stdout",
     "output_type": "stream",
     "text": [
      "1818\n"
     ]
    }
   ],
   "source": [
    "import pandas as pd\n",
    "#加载停用词\n",
    "stopwords=pd.read_csv(\"cn_stopwords.txt\",index_col=False,quoting=3,sep=\"\\t\",names=['stopword'], encoding='utf-8')\n",
    "stopwords=stopwords['stopword'].values\n",
    "\n",
    "news_list_1 = []\n",
    "for i in nomalList:\n",
    "    if i not in news_list_1:#去重\n",
    "        if i not in stopwords:# 去掉停用词\n",
    "            if len(i) > 1:# 长度为1的字符\n",
    "                if not i.isdigit():# 去数字\n",
    "                    news_list_1.append(i)\n",
    "\n",
    "                \n",
    "                \n",
    "print(len(news_list_1))"
   ]
  },
  {
   "cell_type": "code",
   "execution_count": 3,
   "metadata": {},
   "outputs": [
    {
     "data": {
      "text/plain": [
       "False"
      ]
     },
     "execution_count": 3,
     "metadata": {},
     "output_type": "execute_result"
    }
   ],
   "source": [
    "news_list_1[-3].isdigit()"
   ]
  },
  {
   "cell_type": "code",
   "execution_count": 4,
   "metadata": {},
   "outputs": [],
   "source": [
    "f = pd.DataFrame(columns=[\"text\"],data=news_list_1)\n",
    "f.to_csv(\"nomal.csv\",index=False)"
   ]
  },
  {
   "cell_type": "code",
   "execution_count": 5,
   "metadata": {},
   "outputs": [
    {
     "name": "stdout",
     "output_type": "stream",
     "text": [
      "1610\n"
     ]
    }
   ],
   "source": [
    "news_list_2 = []\n",
    "for i in pornList:\n",
    "    if i not in news_list_2:#去重\n",
    "        if i not in stopwords:# 去掉停用词\n",
    "            if len(i) > 1:# 长度为1的字符\n",
    "                if not i.isdigit():# 去数字\n",
    "                    news_list_2.append(i)#去重\n",
    "                \n",
    "print(len(news_list_2))"
   ]
  },
  {
   "cell_type": "code",
   "execution_count": 6,
   "metadata": {},
   "outputs": [],
   "source": [
    "f = pd.DataFrame(columns=[\"text\"],data=news_list_2)\n",
    "f.to_csv(\"porn.csv\",index=False)"
   ]
  },
  {
   "cell_type": "code",
   "execution_count": null,
   "metadata": {},
   "outputs": [],
   "source": [
    "nomalList=[]\n",
    "with open(\"porn word-8.txt',encoding=\"utf-8\") as f:\n",
    "    words = f.readlines()\n",
    "    for word in words:\n",
    "        rule = re.compile(u\"[\\\\n]\")\n",
    "        word = rule.sub('',word)\n",
    "#             list.append({\"word\":word,\"label\":0})\n",
    "        a = jieba.lcut(word, cut_all=False, HMM=True)#把每句分词加进去\n",
    "        for i in a:\n",
    "            nomalList.append(i)"
   ]
  }
 ],
 "metadata": {
  "kernelspec": {
   "display_name": "Python 3",
   "language": "python",
   "name": "python3"
  },
  "language_info": {
   "codemirror_mode": {
    "name": "ipython",
    "version": 3
   },
   "file_extension": ".py",
   "mimetype": "text/x-python",
   "name": "python",
   "nbconvert_exporter": "python",
   "pygments_lexer": "ipython3",
   "version": "3.6.10"
  }
 },
 "nbformat": 4,
 "nbformat_minor": 4
}
