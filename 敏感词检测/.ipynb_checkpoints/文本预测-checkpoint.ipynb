{
 "cells": [
  {
   "cell_type": "code",
   "execution_count": 1,
   "metadata": {},
   "outputs": [
    {
     "name": "stderr",
     "output_type": "stream",
     "text": [
      "Building prefix dict from the default dictionary ...\n",
      "Loading model from cache C:\\Users\\84920\\AppData\\Local\\Temp\\jieba.cache\n",
      "Loading model cost 0.687 seconds.\n",
      "Prefix dict has been built succesfully.\n"
     ]
    },
    {
     "name": "stdout",
     "output_type": "stream",
     "text": [
      "47270\n"
     ]
    }
   ],
   "source": [
    "\n",
    "import re\n",
    "import jieba\n",
    "\n",
    "list=[]\n",
    "pornFileList = []\n",
    "nomalFileList = []\n",
    "\n",
    "for i in [\"1\",\"2\",\"3\",\"4\",\"5\",\"6\"]:\n",
    "    nomalFileList.append(('normal word-'+i+ r'.txt'))\n",
    "    pornFileList.append(('porn word-'+i+ r'.txt'))\n",
    "\n",
    "for i in range(len(pornFileList)):\n",
    "    with open(pornFileList[i],\"r\",encoding=\"utf-8\") as f:\n",
    "        words = f.readlines()\n",
    "        for word in words:\n",
    "            rule = re.compile(u\"[\\\\n]\")\n",
    "            word = rule.sub('',word)\n",
    "#             list.append({\"word\":word,\"label\":1})\n",
    "            a = jieba.lcut(word, cut_all=False, HMM=True)#把每句分词加进去\n",
    "            for i in a:\n",
    "                list.append({\"word\":i,\"label\":1})\n",
    "        \n",
    "for i in range(len(nomalFileList)):\n",
    "    with open(nomalFileList[i],\"r\",encoding=\"utf-8\") as f:\n",
    "        words = f.readlines()\n",
    "        for word in words:\n",
    "            rule = re.compile(u\"[\\\\n]\")\n",
    "            word = rule.sub('',word)\n",
    "#             list.append({\"word\":word,\"label\":0})\n",
    "            a = jieba.lcut(word, cut_all=False, HMM=True)#把每句分词加进去\n",
    "            for i in a:\n",
    "                list.append({\"word\":i,\"label\":0})\n",
    "\n",
    "print(len(list))"
   ]
  },
  {
   "cell_type": "code",
   "execution_count": 2,
   "metadata": {},
   "outputs": [
    {
     "name": "stdout",
     "output_type": "stream",
     "text": [
      "4494\n"
     ]
    }
   ],
   "source": [
    "news_list = []\n",
    "for i in list:\n",
    "    if i not in news_list:\n",
    "        news_list.append(i)\n",
    "# print(list)\n",
    "print(len(news_list))\n"
   ]
  },
  {
   "cell_type": "code",
   "execution_count": 14,
   "metadata": {},
   "outputs": [
    {
     "name": "stdout",
     "output_type": "stream",
     "text": [
      "特色\n"
     ]
    }
   ],
   "source": [
    "import pandas as pd\n",
    "#加载停用词\n",
    "stopwords=pd.read_csv(\"cn_stopwords.txt\",index_col=False,quoting=3,sep=\"\\t\",names=['stopword'], encoding='utf-8')\n",
    "stopwords=stopwords['stopword'].values\n"
   ]
  },
  {
   "cell_type": "code",
   "execution_count": null,
   "metadata": {},
   "outputs": [],
   "source": [
    "news_list = []\n",
    "for i in list:\n",
    "    if i not in news_list:\n",
    "        news_list.append(i)\n",
    "# print(list)\n",
    "print(len(news_list))"
   ]
  },
  {
   "cell_type": "code",
   "execution_count": 3,
   "metadata": {
    "scrolled": true
   },
   "outputs": [
    {
     "data": {
      "text/plain": [
       "'播放'"
      ]
     },
     "execution_count": 3,
     "metadata": {},
     "output_type": "execute_result"
    }
   ],
   "source": [
    "\n",
    "f = pd.DataFrame(news_list)\n",
    "f.to_csv(\"data.csv\")\n",
    "df = pd.read_csv(\"data.csv\")\n",
    "df[\"word\"][23]"
   ]
  },
  {
   "cell_type": "code",
   "execution_count": 4,
   "metadata": {},
   "outputs": [
    {
     "name": "stderr",
     "output_type": "stream",
     "text": [
      "Using TensorFlow backend.\n",
      "D:\\anaconda3\\envs\\tensorflow\\lib\\site-packages\\tensorflow\\python\\framework\\dtypes.py:526: FutureWarning: Passing (type, 1) or '1type' as a synonym of type is deprecated; in a future version of numpy, it will be understood as (type, (1,)) / '(1,)type'.\n",
      "  _np_qint8 = np.dtype([(\"qint8\", np.int8, 1)])\n",
      "D:\\anaconda3\\envs\\tensorflow\\lib\\site-packages\\tensorflow\\python\\framework\\dtypes.py:527: FutureWarning: Passing (type, 1) or '1type' as a synonym of type is deprecated; in a future version of numpy, it will be understood as (type, (1,)) / '(1,)type'.\n",
      "  _np_quint8 = np.dtype([(\"quint8\", np.uint8, 1)])\n",
      "D:\\anaconda3\\envs\\tensorflow\\lib\\site-packages\\tensorflow\\python\\framework\\dtypes.py:528: FutureWarning: Passing (type, 1) or '1type' as a synonym of type is deprecated; in a future version of numpy, it will be understood as (type, (1,)) / '(1,)type'.\n",
      "  _np_qint16 = np.dtype([(\"qint16\", np.int16, 1)])\n",
      "D:\\anaconda3\\envs\\tensorflow\\lib\\site-packages\\tensorflow\\python\\framework\\dtypes.py:529: FutureWarning: Passing (type, 1) or '1type' as a synonym of type is deprecated; in a future version of numpy, it will be understood as (type, (1,)) / '(1,)type'.\n",
      "  _np_quint16 = np.dtype([(\"quint16\", np.uint16, 1)])\n",
      "D:\\anaconda3\\envs\\tensorflow\\lib\\site-packages\\tensorflow\\python\\framework\\dtypes.py:530: FutureWarning: Passing (type, 1) or '1type' as a synonym of type is deprecated; in a future version of numpy, it will be understood as (type, (1,)) / '(1,)type'.\n",
      "  _np_qint32 = np.dtype([(\"qint32\", np.int32, 1)])\n",
      "D:\\anaconda3\\envs\\tensorflow\\lib\\site-packages\\tensorflow\\python\\framework\\dtypes.py:535: FutureWarning: Passing (type, 1) or '1type' as a synonym of type is deprecated; in a future version of numpy, it will be understood as (type, (1,)) / '(1,)type'.\n",
      "  np_resource = np.dtype([(\"resource\", np.ubyte, 1)])\n"
     ]
    }
   ],
   "source": [
    "from keras.preprocessing.text import Tokenizer #keras分词库--索引化\n",
    "from keras.preprocessing.sequence import pad_sequences #序列预处理\n",
    "import numpy as np\n",
    "import keras #标签\n",
    "\n",
    "maxlen = 50 #前50个词\n",
    "train_samples = 1733\n",
    "validation_samples =866\n",
    "max_words = 50000 #统计考虑前10000出现的词频\n",
    "\n",
    "tokenizer = Tokenizer(num_words=max_words)\n",
    "tokenizer.fit_on_texts(df[\"word\"])\n",
    "sequences = tokenizer.texts_to_sequences(df[\"word\"])# 使用字典将对应词转成index。shape为 (文档数，每条文档的长度)\n",
    "word_index =  tokenizer.word_index"
   ]
  },
  {
   "cell_type": "code",
   "execution_count": 5,
   "metadata": {},
   "outputs": [
    {
     "name": "stdout",
     "output_type": "stream",
     "text": [
      "(4494,)\n",
      "(4494, 50)\n"
     ]
    }
   ],
   "source": [
    "data = pad_sequences(sequences,maxlen=maxlen)#变成数据张量的形式\n",
    "labels = np.asarray(df[\"label\"])\n",
    "print(labels.shape)\n",
    "print(data.shape)"
   ]
  },
  {
   "cell_type": "code",
   "execution_count": 6,
   "metadata": {},
   "outputs": [],
   "source": [
    "#打乱训练和数据集\n",
    "indices = np.arange(data.shape[0])\n",
    "np.random.shuffle(indices)\n",
    "data = data[indices]\n",
    "labels = labels[indices]\n",
    "\n",
    "x_train = data[:train_samples]\n",
    "y_train = labels[:train_samples]\n",
    "x_validation = data[train_samples:train_samples+validation_samples]\n",
    "y_validation = labels[train_samples:train_samples+validation_samples]"
   ]
  },
  {
   "cell_type": "code",
   "execution_count": 7,
   "metadata": {},
   "outputs": [],
   "source": [
    "from keras.models import Sequential\n",
    "from keras.layers import Embedding,Flatten,Dense\n",
    "from keras.layers import LSTM\n",
    "from keras.layers import Bidirectional,Dropout,Activation,SpatialDropout1D"
   ]
  },
  {
   "cell_type": "code",
   "execution_count": 8,
   "metadata": {
    "scrolled": true
   },
   "outputs": [
    {
     "name": "stdout",
     "output_type": "stream",
     "text": [
      "WARNING:tensorflow:From D:\\anaconda3\\envs\\tensorflow\\lib\\site-packages\\tensorflow\\python\\ops\\resource_variable_ops.py:435: colocate_with (from tensorflow.python.framework.ops) is deprecated and will be removed in a future version.\n",
      "Instructions for updating:\n",
      "Colocations handled automatically by placer.\n"
     ]
    },
    {
     "name": "stderr",
     "output_type": "stream",
     "text": [
      "D:\\anaconda3\\envs\\tensorflow\\lib\\site-packages\\ipykernel_launcher.py:9: UserWarning: Update your `LSTM` call to the Keras 2 API: `LSTM(50, dropout=0.5, recurrent_dropout=0.2)`\n",
      "  if __name__ == '__main__':\n"
     ]
    },
    {
     "name": "stdout",
     "output_type": "stream",
     "text": [
      "Model: \"sequential_1\"\n",
      "_________________________________________________________________\n",
      "Layer (type)                 Output Shape              Param #   \n",
      "=================================================================\n",
      "embedding_1 (Embedding)      (None, 50, 25)            1250000   \n",
      "_________________________________________________________________\n",
      "lstm_1 (LSTM)                (None, 50)                15200     \n",
      "_________________________________________________________________\n",
      "dense_1 (Dense)              (None, 32)                1632      \n",
      "_________________________________________________________________\n",
      "dense_2 (Dense)              (None, 1)                 33        \n",
      "=================================================================\n",
      "Total params: 1,266,865\n",
      "Trainable params: 1,266,865\n",
      "Non-trainable params: 0\n",
      "_________________________________________________________________\n"
     ]
    }
   ],
   "source": [
    "embedding_dim=25 #词嵌入维度\n",
    "model = Sequential()\n",
    "model.add(Embedding(max_words,embedding_dim,input_length=maxlen))\n",
    "# model.add(Flatten()) #多维的输入一维化\n",
    "# model.add(Dense(32,activation=\"relu\"))\n",
    "# model.add(Dense(1, activation='sigmoid'))\n",
    "\n",
    "\n",
    "model.add(LSTM(50, dropout_W=0.5, dropout_U=0.2))  # try using a GRU instead, for fun\n",
    "model.add(Dense(32,activation=\"relu\"))\n",
    "model.add(Dense(1, activation='sigmoid'))\n",
    "# model.add(Dense(1))\n",
    "# model.add(Activation('sigmoid'))\n",
    "# model.add(Dense(len(labels_index), activation='softmax'))\n",
    "\n",
    "model.summary()"
   ]
  },
  {
   "cell_type": "code",
   "execution_count": 9,
   "metadata": {
    "scrolled": true
   },
   "outputs": [
    {
     "name": "stdout",
     "output_type": "stream",
     "text": [
      "WARNING:tensorflow:From D:\\anaconda3\\envs\\tensorflow\\lib\\site-packages\\tensorflow\\python\\ops\\math_ops.py:3066: to_int32 (from tensorflow.python.ops.math_ops) is deprecated and will be removed in a future version.\n",
      "Instructions for updating:\n",
      "Use tf.cast instead.\n",
      "Train on 1733 samples, validate on 866 samples\n",
      "Epoch 1/20\n",
      "1733/1733 [==============================] - 4s 2ms/step - loss: 0.6921 - acc: 0.5268 - val_loss: 0.6932 - val_acc: 0.5139\n",
      "Epoch 2/20\n",
      "1733/1733 [==============================] - 4s 3ms/step - loss: 0.6906 - acc: 0.5395 - val_loss: 0.6960 - val_acc: 0.5139\n",
      "Epoch 3/20\n",
      "1733/1733 [==============================] - 5s 3ms/step - loss: 0.6898 - acc: 0.5395 - val_loss: 0.6937 - val_acc: 0.5139\n",
      "Epoch 4/20\n",
      "1733/1733 [==============================] - 4s 3ms/step - loss: 0.6868 - acc: 0.5395 - val_loss: 0.6932 - val_acc: 0.5081\n",
      "Epoch 5/20\n",
      "1733/1733 [==============================] - 5s 3ms/step - loss: 0.6823 - acc: 0.5465 - val_loss: 0.6954 - val_acc: 0.5139\n",
      "Epoch 6/20\n",
      "1733/1733 [==============================] - 5s 3ms/step - loss: 0.6671 - acc: 0.5886 - val_loss: 0.6974 - val_acc: 0.5035\n",
      "Epoch 7/20\n",
      "1733/1733 [==============================] - 5s 3ms/step - loss: 0.6255 - acc: 0.6919 - val_loss: 0.7049 - val_acc: 0.5046\n",
      "Epoch 8/20\n",
      "1733/1733 [==============================] - 4s 2ms/step - loss: 0.5585 - acc: 0.7530 - val_loss: 0.7216 - val_acc: 0.4827\n",
      "Epoch 9/20\n",
      "1733/1733 [==============================] - 4s 3ms/step - loss: 0.4550 - acc: 0.8269 - val_loss: 0.7787 - val_acc: 0.4988\n",
      "Epoch 10/20\n",
      "1733/1733 [==============================] - 4s 2ms/step - loss: 0.3472 - acc: 0.8736 - val_loss: 0.8227 - val_acc: 0.4792\n",
      "Epoch 11/20\n",
      "1733/1733 [==============================] - 5s 3ms/step - loss: 0.2730 - acc: 0.9054 - val_loss: 1.0812 - val_acc: 0.4896\n",
      "Epoch 12/20\n",
      "1733/1733 [==============================] - 5s 3ms/step - loss: 0.1946 - acc: 0.9296 - val_loss: 1.1171 - val_acc: 0.5000\n",
      "Epoch 13/20\n",
      "1733/1733 [==============================] - 4s 3ms/step - loss: 0.1777 - acc: 0.9406 - val_loss: 1.0906 - val_acc: 0.4861\n",
      "Epoch 14/20\n",
      "1733/1733 [==============================] - 4s 2ms/step - loss: 0.1324 - acc: 0.9498 - val_loss: 1.1113 - val_acc: 0.4688\n",
      "Epoch 15/20\n",
      "1733/1733 [==============================] - 4s 2ms/step - loss: 0.1328 - acc: 0.9538 - val_loss: 1.2833 - val_acc: 0.4596\n",
      "Epoch 16/20\n",
      "1733/1733 [==============================] - 4s 2ms/step - loss: 0.1071 - acc: 0.9608 - val_loss: 1.2111 - val_acc: 0.4630\n",
      "Epoch 17/20\n",
      "1733/1733 [==============================] - 4s 2ms/step - loss: 0.1135 - acc: 0.9556 - val_loss: 1.1631 - val_acc: 0.4607\n",
      "Epoch 18/20\n",
      "1733/1733 [==============================] - 4s 3ms/step - loss: 0.0900 - acc: 0.9665 - val_loss: 1.1820 - val_acc: 0.4723\n",
      "Epoch 19/20\n",
      "1733/1733 [==============================] - 4s 2ms/step - loss: 0.0930 - acc: 0.9642 - val_loss: 1.2125 - val_acc: 0.4781\n",
      "Epoch 20/20\n",
      "1733/1733 [==============================] - 4s 2ms/step - loss: 0.0871 - acc: 0.9648 - val_loss: 1.1752 - val_acc: 0.4665\n"
     ]
    }
   ],
   "source": [
    "model.compile(optimizer='rmsprop',loss=\"binary_crossentropy\",metrics=['acc'])\n",
    "history = model.fit(x_train,y_train,epochs=20,batch_size=32,validation_data=(x_validation,y_validation))"
   ]
  },
  {
   "cell_type": "code",
   "execution_count": 14,
   "metadata": {
    "scrolled": true
   },
   "outputs": [
    {
     "data": {
      "image/png": "[encoded data removed]",
      "text/plain": [
       "<Figure size 432x288 with 1 Axes>"
      ]
     },
     "metadata": {
      "needs_background": "light"
     },
     "output_type": "display_data"
    },
    {
     "data": {
      "image/png": "[encoded data removed]",
      "text/plain": [
       "<Figure size 432x288 with 1 Axes>"
      ]
     },
     "metadata": {
      "needs_background": "light"
     },
     "output_type": "display_data"
    }
   ],
   "source": [
    "import matplotlib.pyplot as plt \n",
    "acc = history.history['acc']\n",
    "val_acc = history.history[\"val_acc\"]\n",
    "loss = history.history[\"loss\"]\n",
    "val_loss =history.history[\"val_loss\"]\n",
    "\n",
    "epochs = range(1,len(acc)+1)\n",
    "plt.plot(epochs,acc,\"bo\",label=\"train acc\")\n",
    "plt.plot(epochs,val_acc,\"b\",label=\"validation acc\")\n",
    "plt.legend()\n",
    "\n",
    "plt.figure()\n",
    "\n",
    "plt.plot(epochs,loss,\"bo\",label=\"train loss\")\n",
    "plt.plot(epochs,val_loss,\"b\",label=\"validation loss\")\n",
    "plt.legend()\n",
    "plt.show()"
   ]
  },
  {
   "cell_type": "code",
   "execution_count": 12,
   "metadata": {},
   "outputs": [],
   "source": [
    "\n",
    "model.save(\"model.h5\")"
   ]
  },
  {
   "cell_type": "code",
   "execution_count": 1,
   "metadata": {},
   "outputs": [],
   "source": [
    "import gensim"
   ]
  }
 ],
 "metadata": {
  "kernelspec": {
   "display_name": "Python 3",
   "language": "python",
   "name": "python3"
  },
  "language_info": {
   "codemirror_mode": {
    "name": "ipython",
    "version": 3
   },
   "file_extension": ".py",
   "mimetype": "text/x-python",
   "name": "python",
   "nbconvert_exporter": "python",
   "pygments_lexer": "ipython3",
   "version": "3.6.10"
  }
 },
 "nbformat": 4,
 "nbformat_minor": 4
}
